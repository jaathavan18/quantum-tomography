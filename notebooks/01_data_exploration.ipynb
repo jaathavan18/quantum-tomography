{
 "cells": [
  {
   "cell_type": "code",
   "execution_count": null,
   "id": "00508cca",
   "metadata": {},
   "outputs": [],
   "source": [
    "\"\"\"\n",
    "# Data Exploration Notebook\n",
    "\n",
    "This notebook explores the quantum state datasets and measurement strategies.\n",
    "\"\"\""
   ]
  },
  {
   "cell_type": "code",
   "execution_count": null,
   "id": "4d521ff6",
   "metadata": {},
   "outputs": [],
   "source": [
    "# Cell 1: Imports\n",
    "import sys\n",
    "sys.path.insert(0, '..')\n",
    "\n",
    "from src.data_generation import QuantumStateGenerator, MeasurementSimulator, generate_dataset\n",
    "import matplotlib.pyplot as plt\n",
    "import numpy as np"
   ]
  },
  {
   "cell_type": "code",
   "execution_count": null,
   "id": "b1c68ea5",
   "metadata": {},
   "outputs": [],
   "source": [
    "# Cell 2: Generate sample data\n",
    "gen = QuantumStateGenerator(seed=42)\n",
    "sim = MeasurementSimulator()\n",
    "\n",
    "# Generate 1000 pure states\n",
    "measurements, bloch_vectors = generate_dataset(\n",
    "    n_states=1000,\n",
    "    ensemble_type='pure',\n",
    "    measurement_type='baseline',\n",
    "    seed=42\n",
    ")\n",
    "\n",
    "print(f\"Measurements shape: {measurements.shape}\")\n",
    "print(f\"Bloch vectors shape: {bloch_vectors.shape}\")"
   ]
  },
  {
   "cell_type": "code",
   "execution_count": null,
   "id": "6c99466f",
   "metadata": {},
   "outputs": [],
   "source": [
    "# Cell 3: Visualize Bloch sphere\n",
    "fig = plt.figure(figsize=(10, 8))\n",
    "ax = fig.add_subplot(111, projection='3d')\n",
    "\n",
    "ax.scatter(bloch_vectors[:, 0], bloch_vectors[:, 1], bloch_vectors[:, 2], \n",
    "           alpha=0.5, s=10)\n",
    "\n",
    "ax.set_xlabel('X')\n",
    "ax.set_ylabel('Y')\n",
    "ax.set_zlabel('Z')\n",
    "ax.set_title('Pure States on Bloch Sphere')\n",
    "\n",
    "plt.show()"
   ]
  },
  {
   "cell_type": "code",
   "execution_count": null,
   "id": "f5ce4628",
   "metadata": {},
   "outputs": [],
   "source": [
    "# Cell 4: Compare measurement strategies\n",
    "for meas_type in ['baseline', 'XZ', 'XY', 'YZ']:\n",
    "    meas, _ = generate_dataset(100, measurement_type=meas_type, seed=42)\n",
    "    print(f\"{meas_type}: input dimension = {meas.shape[1]}\")"
   ]
  }
 ],
 "metadata": {
  "kernelspec": {
   "display_name": "quantum-tomography-gd0kJOpx-py3.12",
   "language": "python",
   "name": "python3"
  },
  "language_info": {
   "name": "python",
   "version": "3.12.3"
  }
 },
 "nbformat": 4,
 "nbformat_minor": 5
}
