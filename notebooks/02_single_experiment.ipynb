{
 "cells": [
  {
   "cell_type": "code",
   "execution_count": null,
   "id": "a7f1979e",
   "metadata": {},
   "outputs": [],
   "source": [
    "\"\"\"\n",
    "# Single Experiment Demo\n",
    "\n",
    "Run a single tomography experiment step-by-step\n",
    "\"\"\""
   ]
  },
  {
   "cell_type": "code",
   "execution_count": null,
   "id": "c623d33e",
   "metadata": {},
   "outputs": [],
   "source": [
    "# Cell 1: Setup\n",
    "import sys\n",
    "sys.path.insert(0, '..')\n",
    "\n",
    "from src.data_generation import generate_dataset\n",
    "from src.models import TomographyNet\n",
    "from src.training import QuantumDataset, train_model\n",
    "from src.evaluation import evaluate_model\n",
    "from src.visualization import plot_training_curves, plot_bloch_sphere_failures\n",
    "from torch.utils.data import DataLoader\n",
    "import torch"
   ]
  },
  {
   "cell_type": "code",
   "execution_count": null,
   "id": "fa0ec74f",
   "metadata": {},
   "outputs": [],
   "source": [
    "# Cell 2: Generate data\n",
    "print(\"Generating dataset...\")\n",
    "train_meas, train_bloch = generate_dataset(\n",
    "    n_states=10000,\n",
    "    measurement_type='baseline',\n",
    "    seed=42\n",
    ")\n",
    "\n",
    "val_meas, val_bloch = generate_dataset(\n",
    "    n_states=2000,\n",
    "    measurement_type='baseline',\n",
    "    seed=43\n",
    ")\n",
    "\n",
    "test_meas, test_bloch = generate_dataset(\n",
    "    n_states=2000,\n",
    "    measurement_type='baseline',\n",
    "    seed=44\n",
    ")\n",
    "\n",
    "print(f\"Training set: {train_meas.shape[0]} states\")\n",
    "print(f\"Validation set: {val_meas.shape[0]} states\")\n",
    "print(f\"Test set: {test_meas.shape[0]} states\")"
   ]
  },
  {
   "cell_type": "code",
   "execution_count": null,
   "id": "d1d65edc",
   "metadata": {},
   "outputs": [],
   "source": [
    "# Cell 3: Create dataloaders\n",
    "train_dataset = QuantumDataset(train_meas, train_bloch)\n",
    "val_dataset = QuantumDataset(val_meas, val_bloch)\n",
    "test_dataset = QuantumDataset(test_meas, test_bloch)\n",
    "\n",
    "train_loader = DataLoader(train_dataset, batch_size=512, shuffle=True)\n",
    "val_loader = DataLoader(val_dataset, batch_size=512)\n",
    "test_loader = DataLoader(test_dataset, batch_size=512)"
   ]
  },
  {
   "cell_type": "code",
   "execution_count": null,
   "id": "b58e6504",
   "metadata": {},
   "outputs": [],
   "source": [
    "# Cell 4: Create and train model\n",
    "model = TomographyNet(input_dim=3, hidden_dims=[256, 128, 64, 32])\n",
    "\n",
    "device = 'cuda' if torch.cuda.is_available() else 'cpu'\n",
    "print(f\"Using device: {device}\")\n",
    "\n",
    "history = train_model(\n",
    "    model, train_loader, val_loader,\n",
    "    epochs=500, lr=1e-3, patience=50,\n",
    "    device=device\n",
    ")"
   ]
  },
  {
   "cell_type": "code",
   "execution_count": null,
   "id": "9d1383dd",
   "metadata": {},
   "outputs": [],
   "source": [
    "# Cell 5: Visualize training\n",
    "plot_training_curves(history, 'training_curves.png')\n",
    "print(f\"Best epoch: {history['best_epoch']}\")\n",
    "print(f\"Final validation fidelity: {history['final_fidelity']:.4f}\")"
   ]
  },
  {
   "cell_type": "code",
   "execution_count": null,
   "id": "03587300",
   "metadata": {},
   "outputs": [],
   "source": [
    "# Cell 6: Evaluate on test set\n",
    "metrics = evaluate_model(model, test_loader, device=device)\n",
    "\n",
    "print(\"\\nTest Set Results:\")\n",
    "print(f\"  Mean Fidelity: {metrics['mean_fidelity']:.4f} ± {metrics['std_fidelity']:.4f}\")\n",
    "print(f\"  RMSE (x,y,z): ({metrics['rmse_x']:.4f}, {metrics['rmse_y']:.4f}, {metrics['rmse_z']:.4f})\")\n",
    "print(f\"  Frac > 0.95: {metrics['frac_above_95']:.4f}\")"
   ]
  },
  {
   "cell_type": "code",
   "execution_count": null,
   "id": "c8a82df5",
   "metadata": {},
   "outputs": [],
   "source": [
    "# Cell 7: Visualize failures\n",
    "plot_bloch_sphere_failures(\n",
    "    metrics['predictions'],\n",
    "    metrics['true_values'],\n",
    "    metrics['fidelity_distribution'],\n",
    "    'failure_examples.png',\n",
    "    n_examples=5\n",
    ")"
   ]
  }
 ],
 "metadata": {
  "kernelspec": {
   "display_name": "quantum-tomography-gd0kJOpx-py3.12",
   "language": "python",
   "name": "python3"
  },
  "language_info": {
   "name": "python",
   "version": "3.12.3"
  }
 },
 "nbformat": 4,
 "nbformat_minor": 5
}
